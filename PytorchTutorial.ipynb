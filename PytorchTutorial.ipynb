{
 "cells": [
  {
   "cell_type": "code",
   "execution_count": 95,
   "id": "b5782bbd",
   "metadata": {},
   "outputs": [],
   "source": [
    "import torch # Basic Torch Module\n",
    "import torch.nn as nn # NeuralNet Layers\n",
    "import torch.optim as optim # Optimisers\n",
    "import pprint # Printing a bit prettier\n",
    "pp = pprint.PrettyPrinter()"
   ]
  },
  {
   "cell_type": "code",
   "execution_count": 14,
   "id": "4bf85b5d",
   "metadata": {},
   "outputs": [
    {
     "name": "stdout",
     "output_type": "stream",
     "text": [
      "[[1, 2, 3], [4, 5, 6], [7, 8, 9]]\n"
     ]
    }
   ],
   "source": [
    "# Tensors\n",
    "\n",
    "# List vs Tensors ('3D Matrices')\n",
    "\n",
    "ll = [[1,2,3], [4,5,6], [7,8,9]]\n",
    "\n",
    "print(ll)"
   ]
  },
  {
   "cell_type": "code",
   "execution_count": 15,
   "id": "c6d0b250",
   "metadata": {},
   "outputs": [
    {
     "name": "stdout",
     "output_type": "stream",
     "text": [
      "tensor([[1, 2, 3],\n",
      "        [4, 5, 6],\n",
      "        [7, 8, 9]])\n"
     ]
    }
   ],
   "source": [
    "ts = torch.tensor([[1,2,3], [4,5,6], [7,8,9]])\n",
    "print(ts)"
   ]
  },
  {
   "cell_type": "code",
   "execution_count": 18,
   "id": "8f430e75",
   "metadata": {},
   "outputs": [
    {
     "name": "stdout",
     "output_type": "stream",
     "text": [
      "tensor([[1.1000, 2.0000, 3.0000],\n",
      "        [4.0000, 5.0000, 6.0000],\n",
      "        [7.0000, 8.0000, 9.0000]])\n"
     ]
    }
   ],
   "source": [
    "ts = torch.tensor([[1.1,2,3], [4,5,6], [7,8,9]], dtype = torch.float32)\n",
    "print(ts)"
   ]
  },
  {
   "cell_type": "code",
   "execution_count": 19,
   "id": "3fcfdf2f",
   "metadata": {},
   "outputs": [
    {
     "name": "stdout",
     "output_type": "stream",
     "text": [
      "tensor([[0., 0., 0., 0., 0.],\n",
      "        [0., 0., 0., 0., 0.]])\n"
     ]
    }
   ],
   "source": [
    "# Alternative Zeros\n",
    "\n",
    "zeros = torch.zeros(2, 5)\n",
    "\n",
    "print(zeros)"
   ]
  },
  {
   "cell_type": "code",
   "execution_count": 21,
   "id": "8717ac18",
   "metadata": {},
   "outputs": [
    {
     "name": "stdout",
     "output_type": "stream",
     "text": [
      "tensor([1, 2, 3, 4, 5, 6, 7, 8, 9])\n"
     ]
    }
   ],
   "source": [
    "rr = torch.arange(1,10)\n",
    "print(rr)"
   ]
  },
  {
   "cell_type": "code",
   "execution_count": 22,
   "id": "b4627365",
   "metadata": {},
   "outputs": [
    {
     "name": "stdout",
     "output_type": "stream",
     "text": [
      "A is tensor([[1, 2],\n",
      "        [2, 3],\n",
      "        [4, 5]])\n",
      "B is tensor([[1, 2, 3, 4],\n",
      "        [5, 6, 7, 8]])\n",
      "The product is tensor([[11, 14, 17, 20],\n",
      "        [17, 22, 27, 32],\n",
      "        [29, 38, 47, 56]])\n",
      "The other product is tensor([[11, 14, 17, 20],\n",
      "        [17, 22, 27, 32],\n",
      "        [29, 38, 47, 56]])\n"
     ]
    }
   ],
   "source": [
    "a = torch.tensor([[1, 2], [2, 3], [4, 5]]) \n",
    "b = torch.tensor([[1, 2, 3, 4], [5, 6, 7, 8]]) \n",
    "\n",
    "print(\"A is\", a)\n",
    "print(\"B is\", b)\n",
    "print(\"The product is\", a.matmul(b))\n",
    "print(\"The other product is\", a @ b) # +, -, *, @"
   ]
  },
  {
   "cell_type": "code",
   "execution_count": 28,
   "id": "e01e34c4",
   "metadata": {},
   "outputs": [
    {
     "name": "stdout",
     "output_type": "stream",
     "text": [
      "torch.Size([4, 3])\n",
      "tensor([[1, 2, 3],\n",
      "        [4, 5, 6],\n",
      "        [4, 5, 6],\n",
      "        [4, 5, 6]])\n"
     ]
    }
   ],
   "source": [
    "matr_2d = torch.tensor([[1, 2, 3], [4, 5, 6], [4, 5, 6], [4, 5, 6]])\n",
    "print(matr_2d.shape)\n",
    "print(matr_2d)"
   ]
  },
  {
   "cell_type": "code",
   "execution_count": 24,
   "id": "dc7904c1",
   "metadata": {},
   "outputs": [
    {
     "name": "stdout",
     "output_type": "stream",
     "text": [
      "tensor([[[ 1,  2,  3,  4],\n",
      "         [-2,  5,  6,  9]],\n",
      "\n",
      "        [[ 5,  6,  7,  2],\n",
      "         [ 8,  9, 10,  4]],\n",
      "\n",
      "        [[-3,  2,  2,  1],\n",
      "         [ 4,  6,  5,  9]]])\n",
      "torch.Size([3, 2, 4])\n"
     ]
    }
   ],
   "source": [
    "matr_3d = torch.tensor([[[1, 2, 3, 4], [-2, 5, 6, 9]], [[5, 6, 7, 2], [8, 9, 10, 4]], [[-3, 2, 2, 1], [4, 6, 5, 9]]])\n",
    "print(matr_3d)\n",
    "print(matr_3d.shape)"
   ]
  },
  {
   "cell_type": "code",
   "execution_count": 31,
   "id": "3223ada5",
   "metadata": {},
   "outputs": [
    {
     "name": "stdout",
     "output_type": "stream",
     "text": [
      "tensor([[[ 37,  47,  57],\n",
      "         [ 78,  96, 114]],\n",
      "\n",
      "        [[ 65,  85, 105],\n",
      "         [100, 131, 162]],\n",
      "\n",
      "        [[ 17,  19,  21],\n",
      "         [ 84, 108, 132]]])\n",
      "The shape of the prod is:  torch.Size([3, 2, 3])\n"
     ]
    }
   ],
   "source": [
    "prod = matr_3d @ matr_2d\n",
    "\n",
    "print(prod)\n",
    "print('The shape of the prod is: ', prod.shape)"
   ]
  },
  {
   "cell_type": "code",
   "execution_count": 32,
   "id": "df2acf8c",
   "metadata": {},
   "outputs": [
    {
     "name": "stdout",
     "output_type": "stream",
     "text": [
      "The shape is currently torch.Size([15])\n",
      "The contents are currently tensor([ 1,  2,  3,  4,  5,  6,  7,  8,  9, 10, 11, 12, 13, 14, 15])\n",
      "\n",
      "After reshaping, the shape is currently torch.Size([5, 3])\n",
      "The contents are currently tensor([[ 1,  2,  3],\n",
      "        [ 4,  5,  6],\n",
      "        [ 7,  8,  9],\n",
      "        [10, 11, 12],\n",
      "        [13, 14, 15]])\n"
     ]
    }
   ],
   "source": [
    "rr = torch.arange(1, 16)\n",
    "print(\"The shape is currently\", rr.shape)\n",
    "print(\"The contents are currently\", rr)\n",
    "print()\n",
    "rr = rr.view(5, 3)\n",
    "print(\"After reshaping, the shape is currently\", rr.shape)\n",
    "print(\"The contents are currently\", rr)"
   ]
  },
  {
   "cell_type": "code",
   "execution_count": 33,
   "id": "3c98244a",
   "metadata": {},
   "outputs": [
    {
     "name": "stdout",
     "output_type": "stream",
     "text": [
      "This is a torch.tensor tensor([[1, 0, 5]])\n",
      "This is a np.ndarray [[1 0 5]]\n"
     ]
    }
   ],
   "source": [
    "import numpy as np\n",
    "\n",
    "# numpy.ndarray --> torch.Tensor:\n",
    "arr = np.array([[1, 0, 5]])\n",
    "data = torch.tensor(arr)\n",
    "print(\"This is a torch.tensor\", data)\n",
    "\n",
    "# torch.Tensor --> numpy.ndarray:\n",
    "new_arr = data.numpy()\n",
    "print(\"This is a np.ndarray\", new_arr)"
   ]
  },
  {
   "cell_type": "code",
   "execution_count": 39,
   "id": "4ef652f2",
   "metadata": {},
   "outputs": [
    {
     "data": {
      "text/plain": [
       "tensor([[1, 2, 3],\n",
       "        [4, 5, 6],\n",
       "        [7, 8, 9]])"
      ]
     },
     "execution_count": 39,
     "metadata": {},
     "output_type": "execute_result"
    }
   ],
   "source": [
    "arrll = np.array(ll)\n",
    "arlltotensor = torch.tensor(arrll)\n",
    "arlltotensor"
   ]
  },
  {
   "cell_type": "code",
   "execution_count": 34,
   "id": "b8d40a7a",
   "metadata": {},
   "outputs": [
    {
     "data": {
      "text/plain": [
       "array([[[ 37,  47,  57],\n",
       "        [ 78,  96, 114]],\n",
       "\n",
       "       [[ 65,  85, 105],\n",
       "        [100, 131, 162]],\n",
       "\n",
       "       [[ 17,  19,  21],\n",
       "        [ 84, 108, 132]]])"
      ]
     },
     "execution_count": 34,
     "metadata": {},
     "output_type": "execute_result"
    }
   ],
   "source": [
    "prod.numpy()"
   ]
  },
  {
   "cell_type": "markdown",
   "id": "45ce3fa2",
   "metadata": {},
   "source": [
    "One of the reasons why we use tensors is vectorized operations: operations that be conducted in parallel over a particular dimension of a tensor."
   ]
  },
  {
   "cell_type": "code",
   "execution_count": 40,
   "id": "24dd15ef",
   "metadata": {},
   "outputs": [
    {
     "name": "stdout",
     "output_type": "stream",
     "text": [
      "Data is: tensor([[ 1.,  2.,  3.,  4.,  5.,  6.,  7.],\n",
      "        [ 8.,  9., 10., 11., 12., 13., 14.],\n",
      "        [15., 16., 17., 18., 19., 20., 21.],\n",
      "        [22., 23., 24., 25., 26., 27., 28.],\n",
      "        [29., 30., 31., 32., 33., 34., 35.]])\n",
      "Taking the sum over columns:\n",
      "tensor([ 75.,  80.,  85.,  90.,  95., 100., 105.])\n",
      "Taking thep sum over rows:\n",
      "tensor([ 28.,  77., 126., 175., 224.])\n",
      "Taking the stdev over rows:\n",
      "tensor([2.1602, 2.1602, 2.1602, 2.1602, 2.1602])\n"
     ]
    }
   ],
   "source": [
    "data = torch.arange(1, 36, dtype=torch.float32).reshape(5, 7)\n",
    "print(\"Data is:\", data)\n",
    "\n",
    "# We can perform operations like *sum* over each row...\n",
    "print(\"Taking the sum over columns:\")\n",
    "print(data.sum(dim=0))\n",
    "\n",
    "# or over each column.\n",
    "print(\"Taking thep sum over rows:\")\n",
    "print(data.sum(dim=1))\n",
    "\n",
    "# Other operations are available:\n",
    "print(\"Taking the stdev over rows:\")\n",
    "print(data.std(dim=1))"
   ]
  },
  {
   "cell_type": "code",
   "execution_count": 43,
   "id": "3149ba93",
   "metadata": {},
   "outputs": [
    {
     "name": "stdout",
     "output_type": "stream",
     "text": [
      "tensor([4.2667, 1.0333])\n",
      "tensor([ 2.5000, -2.5000,  7.9500])\n"
     ]
    }
   ],
   "source": [
    "data = torch.tensor([[1,2.2, 9.6], [4,-7.2, 6.3]])\n",
    "\n",
    "print(data.mean(dim=1)) # Row Wise Operation\n",
    "print(data.mean(dim=0)) # Col Wise Operation\n",
    "\n"
   ]
  },
  {
   "cell_type": "code",
   "execution_count": 67,
   "id": "c377a52f",
   "metadata": {},
   "outputs": [
    {
     "name": "stdout",
     "output_type": "stream",
     "text": [
      "None\n",
      "tensor([12.])\n"
     ]
    }
   ],
   "source": [
    "# Auto Grad\n",
    "\n",
    "# Create an example tensor\n",
    "# requires_grad parameter tells PyTorch to store gradients\n",
    "x = torch.tensor([2.], requires_grad=True)\n",
    "\n",
    "# Print the gradient if it is calculated\n",
    "# Currently None since x is a scalar (it is 0)\n",
    "pp.pprint(x.grad)\n",
    "\n",
    "\n",
    "y = 3*x**2\n",
    "y.backward()\n",
    "print(x.grad) # d(y)/d(x) = d(3x^2)/d(x) = 6x = 12"
   ]
  },
  {
   "cell_type": "code",
   "execution_count": 70,
   "id": "a065b723",
   "metadata": {},
   "outputs": [
    {
     "name": "stdout",
     "output_type": "stream",
     "text": [
      "None\n"
     ]
    },
    {
     "data": {
      "text/plain": [
       "tensor([0.8467], dtype=torch.float64)"
      ]
     },
     "execution_count": 70,
     "metadata": {},
     "output_type": "execute_result"
    }
   ],
   "source": [
    "# test 2\n",
    "x = torch.tensor([np.sin(3)], requires_grad = True)\n",
    "\n",
    "pp.pprint(x.grad)\n",
    "y = 3*x**2\n",
    "y.backward()\n",
    "x.grad"
   ]
  },
  {
   "cell_type": "code",
   "execution_count": 72,
   "id": "87857720",
   "metadata": {},
   "outputs": [
    {
     "data": {
      "text/plain": [
       "tensor([1.6934], dtype=torch.float64)"
      ]
     },
     "execution_count": 72,
     "metadata": {},
     "output_type": "execute_result"
    }
   ],
   "source": [
    "# Lets update the gradient again one gradient step\n",
    "z = 3*x**2\n",
    "z.backward()\n",
    "x.grad"
   ]
  },
  {
   "cell_type": "markdown",
   "id": "0f574e53",
   "metadata": {},
   "source": [
    "### **Linear Layer**\n",
    "We can use `nn.Linear(H_in, H_out)` to create a a linear layer. This will take a matrix of `(N, *, H_in)` dimensions and output a matrix of `(N, *, H_out)`. The `*` denotes that there could be arbitrary number of dimensions in between. The linear layer performs the operation `Ax+b`, where `A` and `b` are initialized randomly. If we don't want the linear layer to learn the bias parameters, we can initialize our layer with `bias=False`."
   ]
  },
  {
   "cell_type": "code",
   "execution_count": 88,
   "id": "1a00fed0",
   "metadata": {},
   "outputs": [
    {
     "data": {
      "text/plain": [
       "tensor([[[-0.2484, -0.3679],\n",
       "         [-0.2484, -0.3679],\n",
       "         [-0.2484, -0.3679]],\n",
       "\n",
       "        [[-0.2484, -0.3679],\n",
       "         [-0.2484, -0.3679],\n",
       "         [-0.2484, -0.3679]]], grad_fn=<AddBackward0>)"
      ]
     },
     "execution_count": 88,
     "metadata": {},
     "output_type": "execute_result"
    }
   ],
   "source": [
    "# Create the inputs\n",
    "input = torch.ones(2,3,4) # N* H_in -> N*H_out\n",
    "\n",
    "# Make a linear layers transforming N,*,H_in dimensinal inputs to N,*,H_out\n",
    "# dimensional outputs\n",
    "linear = nn.Linear(4, 2)\n",
    "linear_output = linear(input)\n",
    "linear_output"
   ]
  },
  {
   "cell_type": "code",
   "execution_count": 76,
   "id": "719c66ef",
   "metadata": {},
   "outputs": [
    {
     "data": {
      "text/plain": [
       "[Parameter containing:\n",
       " tensor([[-0.0845, -0.3740, -0.2001,  0.4769],\n",
       "         [-0.3340,  0.1874,  0.2491, -0.4552]], requires_grad=True),\n",
       " Parameter containing:\n",
       " tensor([-0.0722, -0.0878], requires_grad=True)]"
      ]
     },
     "execution_count": 76,
     "metadata": {},
     "output_type": "execute_result"
    }
   ],
   "source": [
    "list(linear.parameters()) # Ax + b"
   ]
  },
  {
   "cell_type": "code",
   "execution_count": 86,
   "id": "870a79a2",
   "metadata": {},
   "outputs": [
    {
     "data": {
      "text/plain": [
       "tensor([[[ 0,  1,  2,  3],\n",
       "         [ 0,  1,  2,  3],\n",
       "         [ 4,  5,  6,  7],\n",
       "         [ 8,  9, 10, 11]],\n",
       "\n",
       "        [[ 0,  1,  2,  3],\n",
       "         [ 0,  1,  2,  3],\n",
       "         [ 4,  5,  6,  7],\n",
       "         [ 8,  9, 10, 11]]])"
      ]
     },
     "execution_count": 86,
     "metadata": {},
     "output_type": "execute_result"
    }
   ],
   "source": [
    "maxpool = nn.AdaptiveMaxPool2d(4,2)\n",
    "maxpool_output = maxpool(input)\n",
    "maxpool_output[1]"
   ]
  },
  {
   "cell_type": "code",
   "execution_count": 89,
   "id": "610afe27",
   "metadata": {},
   "outputs": [
    {
     "data": {
      "text/plain": [
       "tensor([[[0.4382, 0.4091],\n",
       "         [0.4382, 0.4091],\n",
       "         [0.4382, 0.4091]],\n",
       "\n",
       "        [[0.4382, 0.4091],\n",
       "         [0.4382, 0.4091],\n",
       "         [0.4382, 0.4091]]], grad_fn=<SigmoidBackward0>)"
      ]
     },
     "execution_count": 89,
     "metadata": {},
     "output_type": "execute_result"
    }
   ],
   "source": [
    "sigmoid = nn.Sigmoid()\n",
    "output = sigmoid(linear_output)\n",
    "output"
   ]
  },
  {
   "cell_type": "code",
   "execution_count": 90,
   "id": "df1731c3",
   "metadata": {},
   "outputs": [
    {
     "data": {
      "text/plain": [
       "tensor([[[0.5000, 0.7311, 0.8808, 0.9526],\n",
       "         [0.5000, 0.7311, 0.8808, 0.9526],\n",
       "         [0.9820, 0.9933, 0.9975, 0.9991],\n",
       "         [0.9997, 0.9999, 1.0000, 1.0000]],\n",
       "\n",
       "        [[0.5000, 0.7311, 0.8808, 0.9526],\n",
       "         [0.5000, 0.7311, 0.8808, 0.9526],\n",
       "         [0.9820, 0.9933, 0.9975, 0.9991],\n",
       "         [0.9997, 0.9999, 1.0000, 1.0000]]])"
      ]
     },
     "execution_count": 90,
     "metadata": {},
     "output_type": "execute_result"
    }
   ],
   "source": [
    "output = sigmoid(maxpool_output[1])\n",
    "output"
   ]
  },
  {
   "cell_type": "code",
   "execution_count": 91,
   "id": "fbe1b9fd",
   "metadata": {},
   "outputs": [],
   "source": [
    "class MultilayerPerceptron(nn.Module):\n",
    "\n",
    "\n",
    "    def __init__(self, input_size, hidden_size):\n",
    "        # Call to the __init__ function of the super class\n",
    "        super(MultilayerPerceptron, self).__init__()\n",
    "\n",
    "        # Bookkeeping: Saving the initialization parameters\n",
    "        self.input_size = input_size \n",
    "        self.hidden_size = hidden_size \n",
    "\n",
    "        # Defining of our model\n",
    "        # There isn't anything specific about the naming of `self.model`. It could\n",
    "        # be something arbitrary.\n",
    "        self.model = nn.Sequential(\n",
    "            nn.Linear(self.input_size, self.hidden_size),\n",
    "            nn.ReLU(),\n",
    "            nn.Linear(self.hidden_size, self.input_size),\n",
    "            nn.Sigmoid()\n",
    "        )\n",
    "\n",
    "\n",
    "        def forward(self, x):\n",
    "            output = self.model(x)\n",
    "            return output"
   ]
  },
  {
   "cell_type": "code",
   "execution_count": 92,
   "id": "d92b82af",
   "metadata": {},
   "outputs": [],
   "source": [
    "# Alternative Way to define it \n",
    "\n",
    "class MultilayerPerceptron(nn.Module):\n",
    "\n",
    "    def __init__(self, input_size, hidden_size):\n",
    "        # Call to the __init__ function of the super class\n",
    "        super(MultilayerPerceptron, self).__init__()\n",
    "\n",
    "        # Bookkeeping: Saving the initialization parameters\n",
    "        self.input_size = input_size \n",
    "        self.hidden_size = hidden_size \n",
    "\n",
    "        # Defining of our layers\n",
    "        self.linear = nn.Linear(self.input_size, self.hidden_size)\n",
    "        self.relu = nn.ReLU()\n",
    "        self.linear2 = nn.Linear(self.hidden_size, self.input_size)\n",
    "        self.sigmoid = nn.Sigmoid()\n",
    "\n",
    "    def forward(self, x):\n",
    "        linear = self.linear(x)\n",
    "        relu = self.relu(linear)\n",
    "        linear2 = self.linear2(relu)\n",
    "        output = self.sigmoid(linear2)\n",
    "        return output"
   ]
  },
  {
   "cell_type": "code",
   "execution_count": 93,
   "id": "3de5c297",
   "metadata": {},
   "outputs": [
    {
     "data": {
      "text/plain": [
       "tensor([[0.5959, 0.4947, 0.3749, 0.5005, 0.6783],\n",
       "        [0.5021, 0.4759, 0.4328, 0.5804, 0.5663]], grad_fn=<SigmoidBackward0>)"
      ]
     },
     "execution_count": 93,
     "metadata": {},
     "output_type": "execute_result"
    }
   ],
   "source": [
    "# Make a sample input\n",
    "input = torch.randn(2, 5)\n",
    "\n",
    "# Create our model\n",
    "model = MultilayerPerceptron(5, 3)\n",
    "\n",
    "# Pass our input through our model\n",
    "model(input)"
   ]
  },
  {
   "cell_type": "code",
   "execution_count": 94,
   "id": "196f561a",
   "metadata": {},
   "outputs": [
    {
     "data": {
      "text/plain": [
       "[('linear.weight',\n",
       "  Parameter containing:\n",
       "  tensor([[-0.4161,  0.4228,  0.2159, -0.1273,  0.3866],\n",
       "          [ 0.3517, -0.1959, -0.0090,  0.2656,  0.0216],\n",
       "          [ 0.2552,  0.0704,  0.2814, -0.2291,  0.1701]], requires_grad=True)),\n",
       " ('linear.bias',\n",
       "  Parameter containing:\n",
       "  tensor([-0.0456, -0.0508, -0.1223], requires_grad=True)),\n",
       " ('linear2.weight',\n",
       "  Parameter containing:\n",
       "  tensor([[ 0.4478, -0.5310, -0.5390],\n",
       "          [ 0.0890,  0.0979, -0.0655],\n",
       "          [-0.2861, -0.1515,  0.1486],\n",
       "          [-0.3793, -0.4265,  0.4907],\n",
       "          [ 0.5768, -0.2459,  0.1907]], requires_grad=True)),\n",
       " ('linear2.bias',\n",
       "  Parameter containing:\n",
       "  tensor([ 0.0648, -0.0894, -0.2861,  0.2729,  0.2468], requires_grad=True))]"
      ]
     },
     "execution_count": 94,
     "metadata": {},
     "output_type": "execute_result"
    }
   ],
   "source": [
    "list(model.named_parameters())"
   ]
  },
  {
   "cell_type": "code",
   "execution_count": 96,
   "id": "da23d231",
   "metadata": {},
   "outputs": [
    {
     "data": {
      "text/plain": [
       "tensor([[ 0.8613,  0.4758,  3.0184, -0.0661, -0.3059],\n",
       "        [ 1.2183,  2.2498,  0.6187,  1.2606,  0.7395],\n",
       "        [ 2.4300,  1.6481,  1.3270,  1.5043, -0.5223],\n",
       "        [ 1.3513, -0.5992,  1.5634,  1.3973, -0.2025],\n",
       "        [ 0.1527,  1.7099,  1.4883, -2.0671,  1.8627],\n",
       "        [ 1.1948,  0.1298,  0.1568, -0.3245,  1.6241],\n",
       "        [ 2.3872,  1.3440,  1.0434,  0.1171,  0.9605],\n",
       "        [ 0.3640,  0.1352,  1.5010,  0.5231,  1.2953],\n",
       "        [ 4.0890,  0.6901,  0.6015,  2.4574,  0.9185],\n",
       "        [ 1.2452,  0.4282,  1.7317,  3.3398,  1.0501]])"
      ]
     },
     "execution_count": 96,
     "metadata": {},
     "output_type": "execute_result"
    }
   ],
   "source": [
    "# Create the y data\n",
    "y = torch.ones(10, 5)\n",
    "\n",
    "# Add some noise to our goal y to generate our x\n",
    "# We want out model to predict our original data, albeit the noise\n",
    "x = y + torch.randn_like(y)\n",
    "x"
   ]
  },
  {
   "cell_type": "code",
   "execution_count": 97,
   "id": "d62d25a4",
   "metadata": {},
   "outputs": [
    {
     "data": {
      "text/plain": [
       "0.8096874952316284"
      ]
     },
     "execution_count": 97,
     "metadata": {},
     "output_type": "execute_result"
    }
   ],
   "source": [
    "# Instantiate the model\n",
    "model = MultilayerPerceptron(5, 3)\n",
    "\n",
    "# Define the optimizer\n",
    "adam = optim.Adam(model.parameters(), lr=1e-1)\n",
    "\n",
    "# Define loss using a predefined loss function\n",
    "loss_function = nn.BCELoss()\n",
    "\n",
    "# Calculate how our model is doing now\n",
    "y_pred = model(x)\n",
    "loss_function(y_pred, y).item()"
   ]
  },
  {
   "cell_type": "code",
   "execution_count": 98,
   "id": "02530d77",
   "metadata": {},
   "outputs": [
    {
     "name": "stdout",
     "output_type": "stream",
     "text": [
      "Epoch 0: traing loss: 0.8096874952316284\n",
      "Epoch 1: traing loss: 0.6837695240974426\n",
      "Epoch 2: traing loss: 0.569698691368103\n",
      "Epoch 3: traing loss: 0.4380474090576172\n",
      "Epoch 4: traing loss: 0.30530479550361633\n",
      "Epoch 5: traing loss: 0.1962931603193283\n",
      "Epoch 6: traing loss: 0.11694113910198212\n",
      "Epoch 7: traing loss: 0.06505902111530304\n",
      "Epoch 8: traing loss: 0.03437305614352226\n",
      "Epoch 9: traing loss: 0.017681915313005447\n"
     ]
    }
   ],
   "source": [
    "# Set the number of epoch, which determines the number of training iterations\n",
    "n_epoch = 10 \n",
    "\n",
    "for epoch in range(n_epoch):\n",
    "  # Set the gradients to 0 such they do not accumulate over time\n",
    "  adam.zero_grad()\n",
    "\n",
    "  # Get the model predictions\n",
    "  y_pred = model(x)\n",
    "\n",
    "  # Get the loss\n",
    "  loss = loss_function(y_pred, y)\n",
    "\n",
    "  # Print stats\n",
    "  print(f\"Epoch {epoch}: traing loss: {loss}\")\n",
    "\n",
    "  # Compute the gradients\n",
    "  loss.backward()\n",
    "\n",
    "  # Take a step to optimize the weights\n",
    "  adam.step()"
   ]
  },
  {
   "cell_type": "code",
   "execution_count": 99,
   "id": "c8c44126",
   "metadata": {},
   "outputs": [
    {
     "data": {
      "text/plain": [
       "[Parameter containing:\n",
       " tensor([[ 0.9557,  1.0294,  0.9336,  0.1610,  0.7505],\n",
       "         [-0.5454, -0.1231, -0.1051, -0.1946, -0.7005],\n",
       "         [-0.0791,  0.2149, -0.3598, -0.2682, -0.2641]], requires_grad=True),\n",
       " Parameter containing:\n",
       " tensor([ 0.9267, -0.3853, -0.4395], requires_grad=True),\n",
       " Parameter containing:\n",
       " tensor([[ 1.1494,  1.0764, -0.5574],\n",
       "         [ 1.4297, -0.0541, -0.5118],\n",
       "         [ 0.5742,  0.0980, -0.3255],\n",
       "         [ 1.2964, -0.0293, -0.4493],\n",
       "         [ 0.7406,  0.9080,  0.4901]], requires_grad=True),\n",
       " Parameter containing:\n",
       " tensor([0.5166, 0.5561, 1.0287, 0.5255, 0.8529], requires_grad=True)]"
      ]
     },
     "execution_count": 99,
     "metadata": {},
     "output_type": "execute_result"
    }
   ],
   "source": [
    "list(model.parameters())"
   ]
  },
  {
   "cell_type": "code",
   "execution_count": 100,
   "id": "9c708484",
   "metadata": {},
   "outputs": [
    {
     "data": {
      "text/plain": [
       "tensor([[0.9977, 0.9994, 0.9780, 0.9989, 0.9881],\n",
       "        [0.9992, 0.9998, 0.9870, 0.9997, 0.9940],\n",
       "        [0.9994, 0.9999, 0.9889, 0.9998, 0.9951],\n",
       "        [0.9840, 0.9935, 0.9442, 0.9899, 0.9598],\n",
       "        [0.9986, 0.9997, 0.9831, 0.9994, 0.9916],\n",
       "        [0.9896, 0.9962, 0.9547, 0.9938, 0.9694],\n",
       "        [0.9996, 0.9999, 0.9905, 0.9998, 0.9960],\n",
       "        [0.9931, 0.9977, 0.9627, 0.9961, 0.9763],\n",
       "        [0.9998, 1.0000, 0.9943, 0.9999, 0.9979],\n",
       "        [0.9989, 0.9998, 0.9850, 0.9995, 0.9928]], grad_fn=<SigmoidBackward0>)"
      ]
     },
     "execution_count": 100,
     "metadata": {},
     "output_type": "execute_result"
    }
   ],
   "source": [
    "# See how our model performs on the training data\n",
    "y_pred = model(x)\n",
    "y_pred"
   ]
  },
  {
   "cell_type": "code",
   "execution_count": 104,
   "id": "c75d259d",
   "metadata": {},
   "outputs": [
    {
     "data": {
      "text/plain": [
       "tensor([[0., 0., 0., 0., 0.],\n",
       "        [0., 0., 0., 0., 0.],\n",
       "        [0., 0., 0., 0., 0.],\n",
       "        [0., 0., 0., 0., 0.],\n",
       "        [0., 0., 0., 0., 0.],\n",
       "        [0., 0., 0., 0., 0.],\n",
       "        [0., 0., 0., 0., 0.],\n",
       "        [0., 0., 0., 0., 0.],\n",
       "        [0., 0., 0., 0., 0.],\n",
       "        [0., 0., 0., 0., 0.]], grad_fn=<SubBackward0>)"
      ]
     },
     "execution_count": 104,
     "metadata": {},
     "output_type": "execute_result"
    }
   ],
   "source": [
    "y_pred.round() - y "
   ]
  },
  {
   "cell_type": "code",
   "execution_count": 107,
   "id": "729ad084",
   "metadata": {},
   "outputs": [],
   "source": [
    "## NlP with Pytorch\n",
    "\n",
    "# Our raw data, which consists of sentences\n",
    "corpus = [\n",
    "          \"We always come to Paris\",\n",
    "          \"The professor is from Tuebingen\",\n",
    "          \"I live in Berlin\",\n",
    "          \"He comes from Taiwan\",\n",
    "          \"The capital of Turkey is Ankara\"\n",
    "         ]"
   ]
  },
  {
   "cell_type": "markdown",
   "id": "6766e9b3",
   "metadata": {},
   "source": [
    "#### Preprocessing\n",
    "\n",
    "To make it easier for our models to learn, we usually apply a few preprocessing steps to our data. This is especially important when dealing with text data. Here are some examples of text preprocessing:\n",
    "* **Tokenization**: Tokenizing the sentences into words.\n",
    "* **Lowercasing**: Changing all the letters to be lowercase.\n",
    "* **Noise removal:** Removing special characters (such as punctuations). \n",
    "* **Stop words removal**: Removing commonly used words.\n",
    "\n",
    "Which preprocessing steps are necessary is determined by the task at hand. For example, although it is useful to remove special characters in some tasks, for others they may be important (for example, if we are dealing with multiple languages). For our task, we will lowercase our words and tokenize. \n"
   ]
  },
  {
   "cell_type": "code",
   "execution_count": 109,
   "id": "73c26c90",
   "metadata": {},
   "outputs": [
    {
     "data": {
      "text/plain": [
       "[['we', 'always', 'come', 'to', 'paris'],\n",
       " ['the', 'professor', 'is', 'from', 'tuebingen'],\n",
       " ['i', 'live', 'in', 'berlin'],\n",
       " ['he', 'comes', 'from', 'taiwan'],\n",
       " ['the', 'capital', 'of', 'turkey', 'is', 'ankara']]"
      ]
     },
     "execution_count": 109,
     "metadata": {},
     "output_type": "execute_result"
    }
   ],
   "source": [
    "def preprocess_sentence(sentence):\n",
    "    return sentence.lower().split() # lowercase and split the sentence\n",
    "\n",
    "# Create our training set\n",
    "train_sentences = [preprocess_sentence(sent) for sent in corpus]\n",
    "train_sentences"
   ]
  },
  {
   "cell_type": "code",
   "execution_count": 111,
   "id": "b7182654",
   "metadata": {},
   "outputs": [
    {
     "data": {
      "text/plain": [
       "[[0, 0, 0, 0, 1],\n",
       " [0, 0, 0, 0, 1],\n",
       " [0, 0, 0, 1],\n",
       " [0, 0, 0, 1],\n",
       " [0, 0, 0, 1, 0, 1]]"
      ]
     },
     "execution_count": 111,
     "metadata": {},
     "output_type": "execute_result"
    }
   ],
   "source": [
    "# Set of locations that appear in our corpus\n",
    "locations = set([\"tuebingen\", \"ankara\", \"paris\", \"berlin\", \"taiwan\", \"turkey\"])\n",
    "\n",
    "# Our train labels\n",
    "train_labels = [[1 if word in locations else 0 for word in sent] for sent in train_sentences]\n",
    "train_labels"
   ]
  },
  {
   "cell_type": "markdown",
   "id": "2b02da4d",
   "metadata": {},
   "source": [
    "#### Converting Words to Embeddings\n",
    "\n",
    "Let's look at our training data a little more closely. Each datapoint we have is a sequence of words. On the other hand, we know that machine learning models work with numbers in vectors. How are we going to turn words into numbers? You may be thinking embeddings and you are right!\n",
    "\n",
    "Imagine that we have an embedding lookup table `E`, where each row corresponds to an embedding. That is, each word in our vocabulary would have a corresponding embedding row `i` in this table. Whenever we want to find an embedding for a word, we will follow these steps:\n",
    "1. Find the corresponding index `i` of the word in the embedding table: `word->index`.\n",
    "2. Index into the embedding table and get the embedding: `index->embedding`.\n",
    "\n",
    "Let's look at the first step. We should assign all the words in our vocabulary to a corresponding index. We can do it as follows:\n",
    "1. Find all the unique words in our corpus.\n",
    "2. Assign an index to each."
   ]
  },
  {
   "cell_type": "code",
   "execution_count": 112,
   "id": "bc1de7bc",
   "metadata": {},
   "outputs": [
    {
     "data": {
      "text/plain": [
       "{'always',\n",
       " 'ankara',\n",
       " 'berlin',\n",
       " 'capital',\n",
       " 'come',\n",
       " 'comes',\n",
       " 'from',\n",
       " 'he',\n",
       " 'i',\n",
       " 'in',\n",
       " 'is',\n",
       " 'live',\n",
       " 'of',\n",
       " 'paris',\n",
       " 'professor',\n",
       " 'taiwan',\n",
       " 'the',\n",
       " 'to',\n",
       " 'tuebingen',\n",
       " 'turkey',\n",
       " 'we'}"
      ]
     },
     "execution_count": 112,
     "metadata": {},
     "output_type": "execute_result"
    }
   ],
   "source": [
    "# Find all the unique words in our corpus \n",
    "vocabulary = set(w for s in train_sentences for w in s)\n",
    "vocabulary"
   ]
  },
  {
   "cell_type": "markdown",
   "id": "79b34aa4",
   "metadata": {},
   "source": [
    "`vocabulary` now contains all the words in our corpus. On the other hand, during the test time, we can see words that are not contained in our vocabulary. If we can figure out a way to represent the unknown words, our model can still reason about whether they are a `LOCATION` or not, since we are also looking at the neighboring words for each prediction. \n",
    "\n",
    "We introduce a special token, `<unk>`, to tackle the words that are out of vocabulary. We could pick another string for our unknown token if we wanted. The only requirement here is that our token should be unique: we should only be using this token for unknown words. We will also add this special token to our vocabulary. "
   ]
  },
  {
   "cell_type": "code",
   "execution_count": 113,
   "id": "5b6da523",
   "metadata": {},
   "outputs": [],
   "source": [
    "vocabulary.add(\"<unk>\") "
   ]
  },
  {
   "cell_type": "markdown",
   "id": "a6f6810c",
   "metadata": {},
   "source": [
    "Earlier we mentioned that our task was called `Word Window Classification` because our model is looking at the surroundings words in addition to the given word when it needs to make a prediction. \n",
    "\n",
    "For example, let's take the sentence \"We always come to Paris\". The corresponding training label for this sentence is `0, 0, 0, 0, 1` since only Paris, the last word, is a `LOCATION`. In one pass (meaning a call to `forward()`), our model will try to generate the correct label for one word. Let's say our model is trying to generate the correct label `1` for `Paris`. If we only allow our model to see `Paris`, but nothing else, we will miss out on the important information that the word `to` often times appears with `LOCATION`s. \n",
    "\n",
    "Word windows allow our model to consider the surrounding `+N` or `-N` words of each word when making a prediction. In our earlier example for `Paris`, if we have a window size of 1, that means our model will look at the words that come immediately before and after `Paris`, which are `to`, and, well, nothing. Now, this raises another issue. `Paris` is at the end of our sentence, so there isn't another word following it. Remember that we define the input dimensions of our `PyTorch` models when we are initializing them. If we set the window size to be `1`, it means that our model will be accepting `3` words in every pass. We cannot have our model expect `2` words from time to time.\n",
    "\n",
    "The solution is to introduce a special token, such as `<pad>`, that will be added to our sentences to make sure that every word has a valid window around them. Similar to `<unk>` token, we could pick another string for our pad token if we wanted, as long as we make sure it is used for a unique purpose. "
   ]
  },
  {
   "cell_type": "code",
   "execution_count": 114,
   "id": "66d79e9c",
   "metadata": {},
   "outputs": [
    {
     "data": {
      "text/plain": [
       "['<pad>', '<pad>', 'we', 'always', 'come', 'to', 'paris', '<pad>', '<pad>']"
      ]
     },
     "execution_count": 114,
     "metadata": {},
     "output_type": "execute_result"
    }
   ],
   "source": [
    "# Add the <pad> token to our vocabulary\n",
    "vocabulary.add(\"<pad>\")\n",
    "\n",
    "# Function that pads the given sentence\n",
    "# We are introducing this function here as an example\n",
    "# We will be utilizing it later in the tutorial\n",
    "def pad_window(sentence, window_size, pad_token=\"<pad>\"):\n",
    "    window = [pad_token] * window_size\n",
    "    return window + sentence + window\n",
    "\n",
    "# Show padding example\n",
    "window_size = 2\n",
    "pad_window(train_sentences[0], window_size=window_size)"
   ]
  },
  {
   "cell_type": "code",
   "execution_count": 115,
   "id": "774aa285",
   "metadata": {},
   "outputs": [
    {
     "data": {
      "text/plain": [
       "{'<pad>': 0,\n",
       " '<unk>': 1,\n",
       " 'always': 2,\n",
       " 'ankara': 3,\n",
       " 'berlin': 4,\n",
       " 'capital': 5,\n",
       " 'come': 6,\n",
       " 'comes': 7,\n",
       " 'from': 8,\n",
       " 'he': 9,\n",
       " 'i': 10,\n",
       " 'in': 11,\n",
       " 'is': 12,\n",
       " 'live': 13,\n",
       " 'of': 14,\n",
       " 'paris': 15,\n",
       " 'professor': 16,\n",
       " 'taiwan': 17,\n",
       " 'the': 18,\n",
       " 'to': 19,\n",
       " 'tuebingen': 20,\n",
       " 'turkey': 21,\n",
       " 'we': 22}"
      ]
     },
     "execution_count": 115,
     "metadata": {},
     "output_type": "execute_result"
    }
   ],
   "source": [
    "# We are just converting our vocabularly to a list to be able to index into it\n",
    "# Sorting is not necessary, we sort to show an ordered word_to_ind dictionary\n",
    "# That being said, we will see that having the index for the padding token\n",
    "# be 0 is convenient as some PyTorch functions use it as a default value\n",
    "# such as nn.utils.rnn.pad_sequence, which we will cover in a bit\n",
    "ix_to_word = sorted(list(vocabulary))\n",
    "\n",
    "# Creating a dictionary to find the index of a given word\n",
    "word_to_ix = {word: ind for ind, word in enumerate(ix_to_word)}\n",
    "word_to_ix"
   ]
  },
  {
   "cell_type": "code",
   "execution_count": 116,
   "id": "86e5b382",
   "metadata": {},
   "outputs": [
    {
     "name": "stdout",
     "output_type": "stream",
     "text": [
      "Original sentence is: ['we', 'always', 'come', 'to', 'kuwait']\n",
      "Going from words to indices: [22, 2, 6, 19, 1]\n",
      "Going from indices to words: ['we', 'always', 'come', 'to', '<unk>']\n"
     ]
    }
   ],
   "source": [
    "# Given a sentence of tokens, return the corresponding indices\n",
    "def convert_token_to_indices(sentence, word_to_ix):\n",
    "\n",
    "    indices = []\n",
    "    for token in sentence:\n",
    "        # Check if the token is in our vocabularly. If it is, get it's index. \n",
    "        # If not, get the index for the unknown token.\n",
    "        if token in word_to_ix:\n",
    "            index = word_to_ix[token]\n",
    "        else:\n",
    "            index = word_to_ix[\"<unk>\"]\n",
    "        indices.append(index)\n",
    "\n",
    "    return indices\n",
    "\n",
    "# More compact version of the same function\n",
    "def _convert_token_to_indices(sentence, word_to_ix):\n",
    "\n",
    "    return [word_to_ind.get(token, word_to_ix[\"<unk>\"]) for token in sentence]\n",
    "\n",
    "# Show an example\n",
    "example_sentence = [\"we\", \"always\", \"come\", \"to\", \"kuwait\"]\n",
    "example_indices = convert_token_to_indices(example_sentence, word_to_ix)\n",
    "restored_example = [ix_to_word[ind] for ind in example_indices]\n",
    "\n",
    "print(f\"Original sentence is: {example_sentence}\")\n",
    "print(f\"Going from words to indices: {example_indices}\")\n",
    "print(f\"Going from indices to words: {restored_example}\")"
   ]
  },
  {
   "cell_type": "code",
   "execution_count": 117,
   "id": "3ac6e7f7",
   "metadata": {},
   "outputs": [
    {
     "data": {
      "text/plain": [
       "[[22, 2, 6, 19, 15],\n",
       " [18, 16, 12, 8, 20],\n",
       " [10, 13, 11, 4],\n",
       " [9, 7, 8, 17],\n",
       " [18, 5, 14, 21, 12, 3]]"
      ]
     },
     "execution_count": 117,
     "metadata": {},
     "output_type": "execute_result"
    }
   ],
   "source": [
    "# Converting our sentences to indices\n",
    "example_padded_indices = [convert_token_to_indices(s, word_to_ix) for s in train_sentences]\n",
    "example_padded_indices"
   ]
  },
  {
   "cell_type": "code",
   "execution_count": 118,
   "id": "ad463964",
   "metadata": {},
   "outputs": [
    {
     "data": {
      "text/plain": [
       "[Parameter containing:\n",
       " tensor([[-7.5482e-01, -2.2092e-03, -4.1821e-01,  1.3172e+00,  1.1483e+00],\n",
       "         [-7.7579e-02, -2.6317e-01, -3.3766e-01,  9.5767e-02, -3.4949e-01],\n",
       "         [ 1.8953e+00,  1.2690e+00, -1.9266e-01, -1.2372e-01,  1.0209e+00],\n",
       "         [-3.0698e-01, -1.5109e+00,  2.4257e+00, -3.0385e-01, -1.7477e+00],\n",
       "         [-2.1599e-01, -4.6947e-02, -2.9402e-01, -1.0722e+00,  3.1287e-01],\n",
       "         [ 1.8210e-01, -4.3033e-01, -4.6328e-01,  4.1029e-01,  5.6159e-01],\n",
       "         [ 7.1831e-01, -1.2839e-01,  3.9307e-01, -6.6254e-01,  2.1043e-01],\n",
       "         [-1.7192e+00,  5.1032e-01,  3.5390e-01,  1.1350e-01, -9.6802e-01],\n",
       "         [-8.0716e-01,  6.9640e-01, -1.8330e+00, -4.0220e-01,  1.4787e+00],\n",
       "         [ 2.4446e-01, -1.4288e+00,  1.2488e+00, -1.1721e+00,  9.8981e-01],\n",
       "         [-5.8435e-01, -7.1598e-01, -1.1451e+00,  3.3518e-01,  4.3613e-01],\n",
       "         [ 1.4727e+00, -7.4476e-01,  1.5523e+00,  1.8630e+00, -5.4626e-01],\n",
       "         [ 3.8871e-01, -3.8843e-01,  9.1190e-02, -3.6838e-01, -7.7410e-01],\n",
       "         [ 5.4684e-01, -1.4233e+00, -7.4094e-01, -4.0853e-01,  9.6263e-01],\n",
       "         [ 2.8997e+00, -1.0992e+00,  9.8292e-01,  5.6068e-01, -1.2055e+00],\n",
       "         [ 5.7741e-01,  1.5857e+00,  1.2581e+00, -1.6710e-01, -1.3377e+00],\n",
       "         [-8.4776e-01, -6.5540e-01, -2.0761e+00, -2.1470e-01, -7.5582e-01],\n",
       "         [-1.2487e+00, -9.6110e-01, -1.6332e+00, -1.0535e+00,  6.7143e-01],\n",
       "         [ 2.5568e+00, -7.6326e-01, -9.9222e-01, -8.6064e-01,  3.7912e-01],\n",
       "         [-5.3509e-01,  5.0523e-01,  1.7655e-01,  2.4902e-01, -8.8171e-01],\n",
       "         [-1.2662e+00, -1.1097e+00,  1.0720e+00,  7.1943e-01,  8.3151e-01],\n",
       "         [ 1.0297e-01, -1.6127e+00, -3.6215e-01, -8.8012e-01, -9.4996e-01],\n",
       "         [ 8.4319e-01, -2.4593e+00, -1.4512e+00,  1.3619e+00,  1.5794e+00]],\n",
       "        requires_grad=True)]"
      ]
     },
     "execution_count": 118,
     "metadata": {},
     "output_type": "execute_result"
    }
   ],
   "source": [
    "# Creating an embedding table for our words\n",
    "embedding_dim = 5\n",
    "embeds = nn.Embedding(len(vocabulary), embedding_dim)\n",
    "\n",
    "# Printing the parameters in our embedding table\n",
    "list(embeds.parameters())"
   ]
  },
  {
   "cell_type": "markdown",
   "id": "e85d1549",
   "metadata": {},
   "source": [
    "To get the word embedding for a word in our vocabulary, all we need to do is to create a lookup tensor. The lookup tensor is just a tensor containing the index we want to look up `nn.Embedding` class expects an index tensor that is of type Long Tensor, so we should create our tensor accordingly. "
   ]
  },
  {
   "cell_type": "code",
   "execution_count": 120,
   "id": "e7a8422a",
   "metadata": {},
   "outputs": [
    {
     "data": {
      "text/plain": [
       "tensor([ 0.5774,  1.5857,  1.2581, -0.1671, -1.3377],\n",
       "       grad_fn=<EmbeddingBackward0>)"
      ]
     },
     "execution_count": 120,
     "metadata": {},
     "output_type": "execute_result"
    }
   ],
   "source": [
    "# Get the embedding for the word Paris\n",
    "index = word_to_ix[\"paris\"]\n",
    "index_tensor = torch.tensor(index, dtype=torch.long)\n",
    "paris_embed = embeds(index_tensor)\n",
    "paris_embed"
   ]
  },
  {
   "cell_type": "code",
   "execution_count": 121,
   "id": "95b56dd5",
   "metadata": {},
   "outputs": [
    {
     "data": {
      "text/plain": [
       "tensor([[ 0.5774,  1.5857,  1.2581, -0.1671, -1.3377],\n",
       "        [-0.3070, -1.5109,  2.4257, -0.3038, -1.7477]],\n",
       "       grad_fn=<EmbeddingBackward0>)"
      ]
     },
     "execution_count": 121,
     "metadata": {},
     "output_type": "execute_result"
    }
   ],
   "source": [
    "# We can also get multiple embeddings at once\n",
    "index_paris = word_to_ix[\"paris\"]\n",
    "index_ankara = word_to_ix[\"ankara\"]\n",
    "indices = [index_paris, index_ankara]\n",
    "indices_tensor = torch.tensor(indices, dtype=torch.long)\n",
    "embeddings = embeds(indices_tensor)\n",
    "embeddings"
   ]
  },
  {
   "cell_type": "markdown",
   "id": "ab90e0e5",
   "metadata": {},
   "source": [
    "#### Batching Sentences\n",
    "\n",
    "We have learned about batches in class. Waiting our whole training corpus to be processed before making an update is constly. On the other hand, updating the parameters after every training example causes the loss to be less stable between updates. To combat these issues, we instead update our parameters after training on a batch of data. This allows us to get a better estimate of the gradient of the global loss. In this section, we will learn how to structure our data into batches using the `torch.util.data.DataLoader` class. \n",
    "\n",
    "We will be calling the `DataLoader` class as follows: `DataLoader(data, batch_size=batch_size, shuffle=True, collate_fn=collate_fn)`.  The `batch_size` parameter determines the number of examples per batch. In every epoch, we will be iterating over all the batches using the `DataLoader`. The order of batches is deterministic by default, but we can ask `DataLoader` to shuffle the batches by setting the `shuffle` parameter to `True`. This way we ensure that we don't encounter a bad batch multiple times.\n",
    "\n",
    "If provided, `DataLoader` passes the batches it prepares to the `collate_fn`. We can write a custom function to pass to the `collate_fn` parameter in order to print stats about our batch or perform extra processing. In our case, we will use the `collate_fn` to:\n",
    "1. Window pad our train sentences.\n",
    "2. Convert the words in the training examples to indices.\n",
    "3. Pad the training examples so that all the sentences and labels have the same length. Similarly, we also need to pad the labels. This creates an issue because when calculating the loss, we need to know the actual number of words in a given example. We will also keep track of this number in the function we pass to the `collate_fn` parameter.\n",
    "\n",
    "Because our version of the `collate_fn` function will need to access to our `word_to_ix` dictionary (so that it can turn words into indices), we will make use of the `partial` function in `Python`, which passes the parameters we give to the function we pass it. "
   ]
  },
  {
   "cell_type": "code",
   "execution_count": 124,
   "id": "9dc24455",
   "metadata": {},
   "outputs": [],
   "source": [
    "from torch.utils.data import DataLoader\n",
    "from functools import partial\n",
    "\n",
    "def custom_collate_fn(batch, window_size, word_to_ix):\n",
    "    # Break our batch into the training examples (x) and labels (y)\n",
    "    # We are turning our x and y into tensors because nn.utils.rnn.pad_sequence\n",
    "    # method expects tensors. This is also useful since our model will be\n",
    "    # expecting tensor inputs. \n",
    "    x, y = zip(*batch)\n",
    "\n",
    "    # Now we need to window pad our training examples. We have already defined a \n",
    "    # function to handle window padding. We are including it here again so that\n",
    "    # everything is in one place.\n",
    "    def pad_window(sentence, window_size, pad_token=\"<pad>\"):\n",
    "        window = [pad_token] * window_size\n",
    "        return window + sentence + window\n",
    "\n",
    "    # Pad the train examples.\n",
    "    x = [pad_window(s, window_size=window_size) for s in x]\n",
    "\n",
    "    # Now we need to turn words in our training examples to indices. We are\n",
    "    # copying the function defined earlier for the same reason as above.\n",
    "    def convert_tokens_to_indices(sentence, word_to_ix):\n",
    "        return [word_to_ix.get(token, word_to_ix[\"<unk>\"]) for token in sentence]\n",
    "\n",
    "    # Convert the train examples into indices.\n",
    "    x = [convert_tokens_to_indices(s, word_to_ix) for s in x]\n",
    "\n",
    "    # We will now pad the examples so that the lengths of all the example in \n",
    "    # one batch are the same, making it possible to do matrix operations. \n",
    "    # We set the batch_first parameter to True so that the returned matrix has \n",
    "    # the batch as the first dimension.\n",
    "    pad_token_ix = word_to_ix[\"<pad>\"]\n",
    "\n",
    "    # pad_sequence function expects the input to be a tensor, so we turn x into one\n",
    "    x = [torch.LongTensor(x_i) for x_i in x]\n",
    "    x_padded = nn.utils.rnn.pad_sequence(x, batch_first=True, padding_value=pad_token_ix)\n",
    "\n",
    "    # We will also pad the labels. Before doing so, we will record the number \n",
    "    # of labels so that we know how many words existed in each example. \n",
    "    lengths = [len(label) for label in y]\n",
    "    lenghts = torch.LongTensor(lengths)\n",
    "\n",
    "    y = [torch.LongTensor(y_i) for y_i in y]\n",
    "    y_padded = nn.utils.rnn.pad_sequence(y, batch_first=True, padding_value=0)\n",
    "\n",
    "    # We are now ready to return our variables. The order we return our variables\n",
    "    # here will match the order we read them in our training loop.\n",
    "    return x_padded, y_padded, lenghts "
   ]
  },
  {
   "cell_type": "code",
   "execution_count": 122,
   "id": "2eb14ef3",
   "metadata": {},
   "outputs": [],
   "source": [
    "# Shorter Version of it \n",
    "\n",
    "def _custom_collate_fn(batch, window_size, word_to_ix):\n",
    "    # Prepare the datapoints\n",
    "    x, y = zip(*batch)  \n",
    "    x = [pad_window(s, window_size=window_size) for s in x]\n",
    "    x = [convert_tokens_to_indices(s, word_to_ix) for s in x]\n",
    "\n",
    "    # Pad x so that all the examples in the batch have the same size\n",
    "    pad_token_ix = word_to_ix[\"<pad>\"]\n",
    "    x = [torch.LongTensor(x_i) for x_i in x]\n",
    "    x_padded = nn.utils.rnn.pad_sequence(x, batch_first=True, padding_value=pad_token_ix)\n",
    "\n",
    "    # Pad y and record the length\n",
    "    lengths = [len(label) for label in y]\n",
    "    lenghts = torch.LongTensor(lengths)\n",
    "    y = [torch.LongTensor(y_i) for y_i in y]\n",
    "    y_padded = nn.utils.rnn.pad_sequence(y, batch_first=True, padding_value=0)\n",
    "    \n",
    "    return x_padded, y_padded, lenghts  "
   ]
  },
  {
   "cell_type": "code",
   "execution_count": 125,
   "id": "4bfbab72",
   "metadata": {},
   "outputs": [
    {
     "name": "stdout",
     "output_type": "stream",
     "text": [
      "Iteration 0\n",
      "Batched Input:\n",
      "tensor([[ 0,  0, 18, 16, 12,  8, 20,  0,  0,  0],\n",
      "        [ 0,  0, 18,  5, 14, 21, 12,  3,  0,  0]])\n",
      "Batched Labels:\n",
      "tensor([[0, 0, 0, 0, 1, 0],\n",
      "        [0, 0, 0, 1, 0, 1]])\n",
      "Batched Lengths:\n",
      "tensor([5, 6])\n",
      "\n",
      "Iteration 1\n",
      "Batched Input:\n",
      "tensor([[ 0,  0, 10, 13, 11,  4,  0,  0],\n",
      "        [ 0,  0,  9,  7,  8, 17,  0,  0]])\n",
      "Batched Labels:\n",
      "tensor([[0, 0, 0, 1],\n",
      "        [0, 0, 0, 1]])\n",
      "Batched Lengths:\n",
      "tensor([4, 4])\n",
      "\n",
      "Iteration 2\n",
      "Batched Input:\n",
      "tensor([[ 0,  0, 22,  2,  6, 19, 15,  0,  0]])\n",
      "Batched Labels:\n",
      "tensor([[0, 0, 0, 0, 1]])\n",
      "Batched Lengths:\n",
      "tensor([5])\n",
      "\n"
     ]
    }
   ],
   "source": [
    "# making the dataloader live\n",
    "\n",
    "# Parameters to be passed to the DataLoader\n",
    "data = list(zip(train_sentences, train_labels))\n",
    "batch_size = 2\n",
    "shuffle = True\n",
    "window_size = 2\n",
    "collate_fn = partial(custom_collate_fn, window_size=window_size, word_to_ix=word_to_ix)\n",
    "\n",
    "# Instantiate the DataLoader\n",
    "loader = DataLoader(data, batch_size=batch_size, shuffle=shuffle, collate_fn=collate_fn)\n",
    "\n",
    "# Go through one loop\n",
    "counter = 0\n",
    "for batched_x, batched_y, batched_lengths in loader:\n",
    "    print(f\"Iteration {counter}\")\n",
    "    print(\"Batched Input:\")\n",
    "    print(batched_x)\n",
    "    print(\"Batched Labels:\")\n",
    "    print(batched_y)\n",
    "    print(\"Batched Lengths:\")\n",
    "    print(batched_lengths)\n",
    "    print(\"\")\n",
    "    counter += 1"
   ]
  },
  {
   "cell_type": "markdown",
   "id": "70ccd530",
   "metadata": {},
   "source": [
    "The batched input tensors you see above will be passed into our model. On the other hand, we started off saying that our model will be a window classifier. The way our input tensors are currently formatted, we have all the words in a sentence in one datapoint. When we pass this input to our model, it needs to create the windows for each word, make a prediction as to whether the center word is a `LOCATION` or not for each window, put the predictions together and return. \n",
    "\n",
    "We could avoid this problem if we formatted our data by breaking it into windows beforehand. In this example, we will instead how our model take care of the formatting. \n",
    "\n",
    "Given that our `window_size` is `N` we want our model to make a prediction on every `2N+1` tokens. That is, if we have an input with `9` tokens, and a `window_size` of `2`, we want our model to return `5` predictions. This makes sense because before we padded it with `2` tokens on each side, our input also had `5` tokens in it! \n",
    "\n",
    "We can create these windows by using for loops, but there is a faster `PyTorch` alternative, which is the `unfold(dimension, size, step)` method. We can create the windows we need using this method as follows:"
   ]
  },
  {
   "cell_type": "code",
   "execution_count": 126,
   "id": "92cd007b",
   "metadata": {},
   "outputs": [
    {
     "name": "stdout",
     "output_type": "stream",
     "text": [
      "Original Tensor: \n",
      "tensor([[ 0,  0, 22,  2,  6, 19, 15,  0,  0]])\n",
      "\n",
      "Windows: \n",
      "tensor([[[ 0,  0, 22,  2,  6],\n",
      "         [ 0, 22,  2,  6, 19],\n",
      "         [22,  2,  6, 19, 15],\n",
      "         [ 2,  6, 19, 15,  0],\n",
      "         [ 6, 19, 15,  0,  0]]])\n"
     ]
    }
   ],
   "source": [
    "# Print the original tensor\n",
    "print(f\"Original Tensor: \")\n",
    "print(batched_x)\n",
    "print(\"\")\n",
    "\n",
    "# Create the 2 * 2 + 1 chunks\n",
    "chunk = batched_x.unfold(1, window_size*2 + 1, 1)\n",
    "print(f\"Windows: \")\n",
    "print(chunk)"
   ]
  },
  {
   "cell_type": "code",
   "execution_count": 128,
   "id": "a4ab6f13",
   "metadata": {},
   "outputs": [],
   "source": [
    "class WordWindowClassifier(nn.Module):\n",
    "\n",
    "    def __init__(self, hyperparameters, vocab_size, pad_ix=0):\n",
    "        super(WordWindowClassifier, self).__init__()\n",
    "\n",
    "        \"\"\" Instance variables \"\"\"\n",
    "        self.window_size = hyperparameters[\"window_size\"]\n",
    "        self.embed_dim = hyperparameters[\"embed_dim\"]\n",
    "        self.hidden_dim = hyperparameters[\"hidden_dim\"]\n",
    "        self.freeze_embeddings = hyperparameters[\"freeze_embeddings\"]\n",
    "\n",
    "        \"\"\" Embedding Layer \n",
    "        Takes in a tensor containing embedding indices, and returns the \n",
    "        corresponding embeddings. The output is of dim \n",
    "        (number_of_indices * embedding_dim).\n",
    "\n",
    "        If freeze_embeddings is True, set the embedding layer parameters to be\n",
    "        non-trainable. This is useful if we only want the parameters other than the\n",
    "        embeddings parameters to change. \n",
    "\n",
    "        \"\"\"\n",
    "        self.embeds = nn.Embedding(vocab_size, self.embed_dim, padding_idx=pad_ix)\n",
    "        if self.freeze_embeddings:\n",
    "            self.embed_layer.weight.requires_grad = False\n",
    "\n",
    "        \"\"\" Hidden Layer\n",
    "        \"\"\"\n",
    "        full_window_size = 2 * window_size + 1\n",
    "        self.hidden_layer = nn.Sequential(\n",
    "          nn.Linear(full_window_size * self.embed_dim, self.hidden_dim), \n",
    "          nn.Tanh()\n",
    "        )\n",
    "\n",
    "        \"\"\" Output Layer\n",
    "        \"\"\"\n",
    "        self.output_layer = nn.Linear(self.hidden_dim, 1)\n",
    "\n",
    "        \"\"\" Probabilities \n",
    "        \"\"\"\n",
    "        self.probabilities = nn.Sigmoid()\n",
    "\n",
    "        \n",
    "    def forward(self, inputs):\n",
    "        \"\"\"\n",
    "        Let B:= batch_size\n",
    "            L:= window-padded sentence length\n",
    "            D:= self.embed_dim\n",
    "            S:= self.window_size\n",
    "            H:= self.hidden_dim\n",
    "\n",
    "        inputs: a (B, L) tensor of token indices\n",
    "        \"\"\"\n",
    "        B, L = inputs.size()\n",
    "\n",
    "        \"\"\"\n",
    "        Reshaping.\n",
    "        Takes in a (B, L) LongTensor\n",
    "        Outputs a (B, L~, S) LongTensor\n",
    "        \"\"\"\n",
    "        # Fist, get our word windows for each word in our input.\n",
    "        token_windows = inputs.unfold(1, 2 * self.window_size + 1, 1)\n",
    "        _, adjusted_length, _ = token_windows.size()\n",
    "\n",
    "        # Good idea to do internal tensor-size sanity checks, at the least in comments!\n",
    "        assert token_windows.size() == (B, adjusted_length, 2 * self.window_size + 1)\n",
    "\n",
    "        \"\"\"\n",
    "        Embedding.\n",
    "        Takes in a torch.LongTensor of size (B, L~, S) \n",
    "        Outputs a (B, L~, S, D) FloatTensor.\n",
    "        \"\"\"\n",
    "        embedded_windows = self.embeds(token_windows)\n",
    "\n",
    "        \"\"\"\n",
    "        Reshaping.\n",
    "        Takes in a (B, L~, S, D) FloatTensor.\n",
    "        Resizes it into a (B, L~, S*D) FloatTensor.\n",
    "        -1 argument \"infers\" what the last dimension should be based on leftover axes.\n",
    "        \"\"\"\n",
    "        embedded_windows = embedded_windows.view(B, adjusted_length, -1)\n",
    "\n",
    "        \"\"\"\n",
    "        Layer 1.\n",
    "        Takes in a (B, L~, S*D) FloatTensor.\n",
    "        Resizes it into a (B, L~, H) FloatTensor\n",
    "        \"\"\"\n",
    "        layer_1 = self.hidden_layer(embedded_windows)\n",
    "\n",
    "        \"\"\"\n",
    "        Layer 2\n",
    "        Takes in a (B, L~, H) FloatTensor.\n",
    "        Resizes it into a (B, L~, 1) FloatTensor.\n",
    "        \"\"\"\n",
    "        output = self.output_layer(layer_1)\n",
    "\n",
    "        \"\"\"\n",
    "        Softmax.\n",
    "        Takes in a (B, L~, 1) FloatTensor of unnormalized class scores.\n",
    "        Outputs a (B, L~, 1) FloatTensor of (log-)normalized class scores.\n",
    "        \"\"\"\n",
    "        output = self.probabilities(output)\n",
    "        output = output.view(B, -1)\n",
    "\n",
    "        return output"
   ]
  },
  {
   "cell_type": "code",
   "execution_count": 129,
   "id": "fd048cd4",
   "metadata": {},
   "outputs": [],
   "source": [
    "# Training \n",
    "\n",
    "# Prepare the data\n",
    "data = list(zip(train_sentences, train_labels))\n",
    "batch_size = 2\n",
    "shuffle = True\n",
    "window_size = 2\n",
    "collate_fn = partial(custom_collate_fn, window_size=window_size, word_to_ix=word_to_ix)\n",
    "\n",
    "# Instantiate a DataLoader\n",
    "loader = DataLoader(data, batch_size=batch_size, shuffle=shuffle, collate_fn=collate_fn)\n",
    "\n",
    "# Initialize a model\n",
    "# It is useful to put all the model hyperparameters in a dictionary\n",
    "model_hyperparameters = {\n",
    "    \"batch_size\": 4,\n",
    "    \"window_size\": 2,\n",
    "    \"embed_dim\": 25,\n",
    "    \"hidden_dim\": 25,\n",
    "    \"freeze_embeddings\": False,\n",
    "}\n",
    "\n",
    "vocab_size = len(word_to_ix)\n",
    "model = WordWindowClassifier(model_hyperparameters, vocab_size)\n",
    "\n",
    "# Define an optimizer\n",
    "learning_rate = 0.01\n",
    "optimizer = torch.optim.SGD(model.parameters(), lr=learning_rate)\n",
    "\n",
    "# Define a loss function, which computes to binary cross entropy loss\n",
    "def loss_function(batch_outputs, batch_labels, batch_lengths):   \n",
    "    # Calculate the loss for the whole batch\n",
    "    bceloss = nn.BCELoss()\n",
    "    loss = bceloss(batch_outputs, batch_labels.float())\n",
    "\n",
    "    # Rescale the loss. Remember that we have used lengths to store the \n",
    "    # number of words in each training example\n",
    "    loss = loss / batch_lengths.sum().float()\n",
    "\n",
    "    return loss"
   ]
  },
  {
   "cell_type": "code",
   "execution_count": 130,
   "id": "158429e7",
   "metadata": {},
   "outputs": [],
   "source": [
    "# Function that will be called in every epoch\n",
    "def train_epoch(loss_function, optimizer, model, loader):\n",
    "  \n",
    "  # Keep track of the total loss for the batch\n",
    "    total_loss = 0\n",
    "    for batch_inputs, batch_labels, batch_lengths in loader:\n",
    "        # Clear the gradients\n",
    "        optimizer.zero_grad()\n",
    "        # Run a forward pass\n",
    "        outputs = model.forward(batch_inputs)\n",
    "        # Compute the batch loss\n",
    "        loss = loss_function(outputs, batch_labels, batch_lengths)\n",
    "        # Calculate the gradients\n",
    "        loss.backward()\n",
    "        # Update the parameteres\n",
    "        optimizer.step()\n",
    "        total_loss += loss.item()\n",
    "\n",
    "    return total_loss"
   ]
  },
  {
   "cell_type": "code",
   "execution_count": 131,
   "id": "0991db2b",
   "metadata": {},
   "outputs": [],
   "source": [
    "# Function containing our main training loop\n",
    "def train(loss_function, optimizer, model, loader, num_epochs=10000):\n",
    "\n",
    "  # Iterate through each epoch and call our train_epoch function\n",
    "  for epoch in range(num_epochs):\n",
    "    epoch_loss = train_epoch(loss_function, optimizer, model, loader)\n",
    "    if epoch % 100 == 0: print(epoch_loss)"
   ]
  },
  {
   "cell_type": "code",
   "execution_count": 132,
   "id": "515e6bc8",
   "metadata": {},
   "outputs": [
    {
     "name": "stdout",
     "output_type": "stream",
     "text": [
      "0.2894841432571411\n",
      "0.22141649201512337\n",
      "0.17786000669002533\n",
      "0.14061449095606804\n",
      "0.10255928337574005\n",
      "0.08533350378274918\n",
      "0.060118136927485466\n",
      "0.052894541062414646\n",
      "0.04444397892802954\n",
      "0.03734759893268347\n"
     ]
    }
   ],
   "source": [
    "num_epochs = 1000\n",
    "train(loss_function, optimizer, model, loader, num_epochs=num_epochs)"
   ]
  },
  {
   "cell_type": "code",
   "execution_count": 133,
   "id": "01bac276",
   "metadata": {},
   "outputs": [],
   "source": [
    "# Create test sentences\n",
    "test_corpus = [\"She comes from Paris\"]\n",
    "test_sentences = [s.lower().split() for s in test_corpus]\n",
    "test_labels = [[0, 0, 0, 1]]\n",
    "\n",
    "# Create a test loader\n",
    "test_data = list(zip(test_sentences, test_labels))\n",
    "batch_size = 1\n",
    "shuffle = False\n",
    "window_size = 2\n",
    "collate_fn = partial(custom_collate_fn, window_size=2, word_to_ix=word_to_ix)\n",
    "test_loader = torch.utils.data.DataLoader(test_data, \n",
    "                                           batch_size=1, \n",
    "                                           shuffle=False, \n",
    "                                           collate_fn=collate_fn)"
   ]
  },
  {
   "cell_type": "code",
   "execution_count": 134,
   "id": "840a6c95",
   "metadata": {},
   "outputs": [
    {
     "name": "stdout",
     "output_type": "stream",
     "text": [
      "tensor([[0, 0, 0, 1]])\n",
      "tensor([[0.0413, 0.6142, 0.0452, 0.9549]], grad_fn=<ViewBackward0>)\n"
     ]
    }
   ],
   "source": [
    "for test_instance, labels, _ in test_loader:\n",
    "    outputs = model.forward(test_instance)\n",
    "    print(labels)\n",
    "    print(outputs)"
   ]
  }
 ],
 "metadata": {
  "kernelspec": {
   "display_name": "Python 3",
   "language": "python",
   "name": "python3"
  },
  "language_info": {
   "codemirror_mode": {
    "name": "ipython",
    "version": 3
   },
   "file_extension": ".py",
   "mimetype": "text/x-python",
   "name": "python",
   "nbconvert_exporter": "python",
   "pygments_lexer": "ipython3",
   "version": "3.6.13"
  }
 },
 "nbformat": 4,
 "nbformat_minor": 5
}
